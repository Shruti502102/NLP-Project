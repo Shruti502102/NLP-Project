{
  "nbformat": 4,
  "nbformat_minor": 0,
  "metadata": {
    "colab": {
      "provenance": []
    },
    "kernelspec": {
      "name": "python3",
      "display_name": "Python 3"
    },
    "language_info": {
      "name": "python"
    }
  },
  "cells": [
    {
      "cell_type": "markdown",
      "source": [
        "natural language prog"
      ],
      "metadata": {
        "id": "txICPP7GJif2"
      }
    },
    {
      "cell_type": "code",
      "execution_count": null,
      "metadata": {
        "colab": {
          "base_uri": "https://localhost:8080/",
          "height": 36
        },
        "id": "ejrVPvWMJb5C",
        "outputId": "d3bba566-f2c9-4f40-df18-7b78126bcf4f"
      },
      "outputs": [
        {
          "output_type": "execute_result",
          "data": {
            "text/plain": [
              "'abc'"
            ],
            "application/vnd.google.colaboratory.intrinsic+json": {
              "type": "string"
            }
          },
          "metadata": {},
          "execution_count": 1
        }
      ],
      "source": [
        "name=\"ABC\"\n",
        "name.lower()"
      ]
    },
    {
      "cell_type": "markdown",
      "source": [
        "TESTCASE1"
      ],
      "metadata": {
        "id": "f1xD1Zs4QQwH"
      }
    },
    {
      "cell_type": "code",
      "source": [
        "name=\"ABC@123\"\n",
        "name.lower()"
      ],
      "metadata": {
        "colab": {
          "base_uri": "https://localhost:8080/",
          "height": 36
        },
        "id": "qjsF1GXQQEOO",
        "outputId": "b1e13be9-96f2-4db6-de99-0442581562d2"
      },
      "execution_count": null,
      "outputs": [
        {
          "output_type": "execute_result",
          "data": {
            "text/plain": [
              "'abc@123'"
            ],
            "application/vnd.google.colaboratory.intrinsic+json": {
              "type": "string"
            }
          },
          "metadata": {},
          "execution_count": 2
        }
      ]
    },
    {
      "cell_type": "code",
      "source": [
        "name.title()"
      ],
      "metadata": {
        "colab": {
          "base_uri": "https://localhost:8080/",
          "height": 36
        },
        "id": "g_2cbM47QSOO",
        "outputId": "edcb1097-a80b-4d32-c2c5-867da99f8304"
      },
      "execution_count": null,
      "outputs": [
        {
          "output_type": "execute_result",
          "data": {
            "text/plain": [
              "'Abc@123'"
            ],
            "application/vnd.google.colaboratory.intrinsic+json": {
              "type": "string"
            }
          },
          "metadata": {},
          "execution_count": 3
        }
      ]
    },
    {
      "cell_type": "markdown",
      "source": [
        "Write a prog to read a name of  user & convert all the alternate chars of name to upper/lower case\n",
        "output\n",
        "==> utkarsh\n",
        "==> UtKaRsH\n",
        "==> uTkArSh"
      ],
      "metadata": {
        "id": "GebLwwZLQWq3"
      }
    },
    {
      "cell_type": "code",
      "source": [
        "a=input(\"Enter name:\")\n"
      ],
      "metadata": {
        "colab": {
          "base_uri": "https://localhost:8080/"
        },
        "id": "R29OHkvkQ8l0",
        "outputId": "68d7acdf-47f6-4196-d2b2-ec9528684a9b"
      },
      "execution_count": null,
      "outputs": [
        {
          "name": "stdout",
          "output_type": "stream",
          "text": [
            "Enter name:shruti\n"
          ]
        }
      ]
    },
    {
      "cell_type": "code",
      "source": [
        "\n",
        "for i in range(len(a)):\n",
        "  if i%2==0:\n",
        "    print(a[i].upper(),end=\"\")\n",
        "  else:\n",
        "    print(a[i].lower(),end=\"\")"
      ],
      "metadata": {
        "colab": {
          "base_uri": "https://localhost:8080/"
        },
        "id": "gv4CKrtARLPs",
        "outputId": "47b73cf7-8b96-4ea4-e77f-958a389a158e"
      },
      "execution_count": null,
      "outputs": [
        {
          "output_type": "stream",
          "name": "stdout",
          "text": [
            "ShRuTi"
          ]
        }
      ]
    },
    {
      "cell_type": "code",
      "source": [
        "for i in range(len(a)):\n",
        "  if i%2==0:\n",
        "    print(a[i].lower(),end=\"\")\n",
        "  else:\n",
        "    print(a[i].upper(),end=\"\")"
      ],
      "metadata": {
        "colab": {
          "base_uri": "https://localhost:8080/"
        },
        "id": "pQYSTBvETOoq",
        "outputId": "737eea67-0f49-4ab9-b02c-37f81bf67af1"
      },
      "execution_count": null,
      "outputs": [
        {
          "output_type": "stream",
          "name": "stdout",
          "text": [
            "sHrUtI"
          ]
        }
      ]
    },
    {
      "cell_type": "markdown",
      "source": [
        "WAP to read a name of user character in alphabetical order change it to next charater for certain words in cases+ next character change only ."
      ],
      "metadata": {
        "id": "WviXHSoMTg_r"
      }
    },
    {
      "cell_type": "markdown",
      "source": [
        "Abcd=>Bbdd"
      ],
      "metadata": {
        "id": "CcbLvS33UMHp"
      }
    },
    {
      "cell_type": "code",
      "source": [
        "a=input(\"Enter name:\")\n",
        "for i in range(len(a)):\n",
        "  if i%2==0:\n",
        "    if a[i]==\"z\":\n",
        "      print(\"a\",end=\"\")\n",
        "    else:\n",
        "      print(chr(ord(a[i])+1),end=\"\")\n",
        "  else:\n",
        "    print(a[i],end=\"\")"
      ],
      "metadata": {
        "colab": {
          "base_uri": "https://localhost:8080/"
        },
        "id": "P5zc8FiYTpgM",
        "outputId": "f27515a6-4f82-4238-c889-225d36237163"
      },
      "execution_count": null,
      "outputs": [
        {
          "output_type": "stream",
          "name": "stdout",
          "text": [
            "Enter name:shruti\n",
            "thsuui"
          ]
        }
      ]
    },
    {
      "cell_type": "code",
      "source": [],
      "metadata": {
        "id": "30Nq5NcoYhMM"
      },
      "execution_count": null,
      "outputs": []
    },
    {
      "cell_type": "code",
      "source": [
        "name=\"sdsdsda\"\n",
        "ord(\"A\")\n"
      ],
      "metadata": {
        "id": "IyB8Km1pV8xj",
        "colab": {
          "base_uri": "https://localhost:8080/"
        },
        "outputId": "174460d8-040e-494f-ac56-d96bbe43f563"
      },
      "execution_count": null,
      "outputs": [
        {
          "output_type": "execute_result",
          "data": {
            "text/plain": [
              "65"
            ]
          },
          "metadata": {},
          "execution_count": 8
        }
      ]
    },
    {
      "cell_type": "code",
      "source": [
        "num=int(input(\"Enter a number: \"))\n",
        "while num>0:\n",
        "  print(\"*\"*num,num)\n",
        "  num-=1"
      ],
      "metadata": {
        "colab": {
          "base_uri": "https://localhost:8080/"
        },
        "id": "9onMs3hYWYr9",
        "outputId": "91a8cfd9-e801-4ccc-f075-5646ac5dab86"
      },
      "execution_count": null,
      "outputs": [
        {
          "output_type": "stream",
          "name": "stdout",
          "text": [
            "Enter a number: 21\n",
            "********************* 21\n",
            "******************** 20\n",
            "******************* 19\n",
            "****************** 18\n",
            "***************** 17\n",
            "**************** 16\n",
            "*************** 15\n",
            "************** 14\n",
            "************* 13\n",
            "************ 12\n",
            "*********** 11\n",
            "********** 10\n",
            "********* 9\n",
            "******** 8\n",
            "******* 7\n",
            "****** 6\n",
            "***** 5\n",
            "**** 4\n",
            "*** 3\n",
            "** 2\n",
            "* 1\n"
          ]
        }
      ]
    },
    {
      "cell_type": "markdown",
      "source": [
        "# **NLP APPLICATION**"
      ],
      "metadata": {
        "id": "qB0KUnCMdJRj"
      }
    },
    {
      "cell_type": "code",
      "source": [
        "#inport libraries\n",
        "import nltk,string,pickle#picle is a module- lot of source code to bind in model to create a model moel.save here combination of model learn in\n",
        "from nltk.corpus import movie_reviews, stopwords#pipline of flipkart\n",
        "from nltk.stem import WordNetLemmatizer\n",
        "from sklearn.model_selection import train_test_split\n",
        "from sklearn.feature_extraction.text import TfidfVectorizer\n",
        "from sklearn.linear_model import LogisticRegression\n",
        "from sklearn.metrics import accuracy_score, classification_report# is it holiday or not muliuse class=knn use"
      ],
      "metadata": {
        "id": "A5YThGGQc7wp"
      },
      "execution_count": null,
      "outputs": []
    },
    {
      "cell_type": "code",
      "source": [
        "# load and shuffle data\n",
        "nltk.download(['movie_reviews','stopwords','punkt','wordnet'])\n",
        "documents=[(list(movie_reviews.words(fileid)),category) for category in movie_reviews.categories() for fileid in movie_reviews.fileids(category)]\n",
        "import random; random.shuffle(documents)\n",
        "reviews,sentiments=zip(*documents)"
      ],
      "metadata": {
        "colab": {
          "base_uri": "https://localhost:8080/"
        },
        "id": "O6juTKMNeeQb",
        "outputId": "9834b11c-13f3-4607-eab5-c419828bb2f5"
      },
      "execution_count": null,
      "outputs": [
        {
          "output_type": "stream",
          "name": "stderr",
          "text": [
            "[nltk_data] Downloading package movie_reviews to /root/nltk_data...\n",
            "[nltk_data]   Unzipping corpora/movie_reviews.zip.\n",
            "[nltk_data] Downloading package stopwords to /root/nltk_data...\n",
            "[nltk_data]   Unzipping corpora/stopwords.zip.\n",
            "[nltk_data] Downloading package punkt to /root/nltk_data...\n",
            "[nltk_data]   Unzipping tokenizers/punkt.zip.\n",
            "[nltk_data] Downloading package wordnet to /root/nltk_data...\n"
          ]
        }
      ]
    },
    {
      "cell_type": "code",
      "source": [
        "# preprocess text\n",
        "def preprocess(review):\n",
        "  lemmatizer=WordNetLemmatizer()\n",
        "  stop_words=set(stopwords.words('english'))\n",
        "  return ' '.join([lemmatizer.lemmatize(word.lower())for word in review\n",
        "                   if word not in string.punctuation and word.lower() not in stop_words])\n",
        "processed_reviews=[preprocess(review) for review in reviews]\n",
        "#train test split\n",
        "x_train,x_test,y_train,y_test=train_test_split(processed_reviews,sentiments,test_size=0.2,random_state=42)\n"
      ],
      "metadata": {
        "id": "Zx5-V-MchStF"
      },
      "execution_count": null,
      "outputs": []
    },
    {
      "cell_type": "code",
      "source": [
        "#vectorize and model\n",
        "vectorizer=TfidfVectorizer(max_features=5000)\n",
        "x_train_vec,x_test_vec=vectorizer.fit_transform(x_train),vectorizer.transform(x_test)\n",
        "model=LogisticRegression().fit(x_train_vec,y_train)"
      ],
      "metadata": {
        "id": "iojR0iUKmN9s"
      },
      "execution_count": null,
      "outputs": []
    },
    {
      "cell_type": "code",
      "source": [
        "#evaluate\n",
        "y_pred=model.predict(x_test_vec)\n",
        "print(\"Accuracy:\",accuracy_score(y_test,y_pred))\n",
        "print(\"Report:\\n\",classification_report(y_test,y_pred))"
      ],
      "metadata": {
        "colab": {
          "base_uri": "https://localhost:8080/"
        },
        "id": "zp01IbYHl_1L",
        "outputId": "3e05ba4d-0b8a-4ceb-a258-db1c36f3dd42"
      },
      "execution_count": null,
      "outputs": [
        {
          "output_type": "stream",
          "name": "stdout",
          "text": [
            "Accuracy: 0.84\n",
            "Report:\n",
            "               precision    recall  f1-score   support\n",
            "\n",
            "         neg       0.90      0.79      0.84       214\n",
            "         pos       0.79      0.90      0.84       186\n",
            "\n",
            "    accuracy                           0.84       400\n",
            "   macro avg       0.84      0.84      0.84       400\n",
            "weighted avg       0.85      0.84      0.84       400\n",
            "\n"
          ]
        }
      ]
    },
    {
      "cell_type": "code",
      "source": [
        "#save model & vectorizer\n",
        "with open('sentiment_model.pkl','wb') as m, open('tfidf_vectorizer.pkl','wb') as v:\n",
        "  pickle.dump(model,m);pickle.dump(vectorizer,v)"
      ],
      "metadata": {
        "id": "00ScaZkenG6S"
      },
      "execution_count": null,
      "outputs": []
    },
    {
      "cell_type": "code",
      "source": [
        " import pickle\n",
        " import string\n",
        " from nltk.corpus import stopwords\n",
        " from nltk.stem import WordNetLemmatizer"
      ],
      "metadata": {
        "id": "46Rgfvelnb1N"
      },
      "execution_count": null,
      "outputs": []
    },
    {
      "cell_type": "code",
      "source": [
        "#load trained model&vectorizeer\n",
        "with open('sentiment_model.pkl','rb') as m, open('tfidf_vectorizer.pkl','rb') as v:\n",
        "  model=pickle.load(m)\n",
        "  vectorizer=pickle.load(v)"
      ],
      "metadata": {
        "id": "18k9TtI5qeNX"
      },
      "execution_count": null,
      "outputs": []
    },
    {
      "cell_type": "code",
      "source": [
        "#function for text preprocessing\n",
        "def preprocess_input(text):\n",
        "  lemmatizer=WordNetLemmatizer()\n",
        "  stop_words=set(stopwords.words('english'))\n",
        "  text=text.lower()#lowercase\n",
        "  text=''.join([char for char in text if char not in string.punctuation])#remove punctuation\n",
        "  words=text.split()#split into words\n",
        "  words=[word for word in words if word not in stop_words]#remove stopwords\n",
        "  words=[lemmatizer.lemmatize(word) for word in words]#lemmatize words\n",
        "\n",
        "  return ' '.join(words)"
      ],
      "metadata": {
        "id": "Dca0vezarAWa"
      },
      "execution_count": null,
      "outputs": []
    },
    {
      "cell_type": "code",
      "source": [
        "#customize i/p review\n",
        "custom_review=\"i enjoyed it\""
      ],
      "metadata": {
        "id": "_DbIG4-7sTGy"
      },
      "execution_count": null,
      "outputs": []
    },
    {
      "cell_type": "code",
      "source": [
        "# preprocess & transform i/p\n",
        "preprocessed_review=preprocess_input(custom_review)\n",
        "transformed_review=vectorizer.transform([preprocessed_review])"
      ],
      "metadata": {
        "id": "31nWb5QlscJU"
      },
      "execution_count": null,
      "outputs": []
    },
    {
      "cell_type": "markdown",
      "source": [
        "# **30/11/2024**"
      ],
      "metadata": {
        "id": "xg1Q6eZDq0-Y"
      }
    },
    {
      "cell_type": "code",
      "source": [
        "#predict sentiment\n",
        "predicted_sentiment=model.predict(transformed_review)[0]"
      ],
      "metadata": {
        "id": "Tx_e3Ttts0u_"
      },
      "execution_count": null,
      "outputs": []
    },
    {
      "cell_type": "code",
      "source": [
        "# output result\n",
        "print(f\"Review: {custom_review}\")\n",
        "print(f\"Predicted Sentiment: {predicted_sentiment}\")"
      ],
      "metadata": {
        "colab": {
          "base_uri": "https://localhost:8080/"
        },
        "id": "yqY1FrWtogta",
        "outputId": "cfac37a1-e47c-4e30-bc33-95cef448964f"
      },
      "execution_count": null,
      "outputs": [
        {
          "output_type": "stream",
          "name": "stdout",
          "text": [
            "Review: i enjoyed it\n",
            "Predicted Sentiment: pos\n"
          ]
        }
      ]
    },
    {
      "cell_type": "code",
      "source": [
        "fro"
      ],
      "metadata": {
        "id": "uhzp2hJ8pdO_"
      },
      "execution_count": null,
      "outputs": []
    }
  ]
}